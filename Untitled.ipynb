{
 "cells": [
  {
   "cell_type": "code",
   "execution_count": 21,
   "id": "df1ca793-95db-461b-ae13-7516eed5df83",
   "metadata": {},
   "outputs": [],
   "source": [
    "from selenium import webdriver\n",
    "from selenium.webdriver.common.by import By\n",
    "from selenium.webdriver.support.ui import WebDriverWait\n",
    "from selenium.webdriver.support import expected_conditions as EC\n",
    "from selenium.webdriver.common.action_chains import ActionChains\n",
    "from bs4 import BeautifulSoup\n",
    "import time"
   ]
  },
  {
   "cell_type": "code",
   "execution_count": 22,
   "id": "df38661d-1f51-4f23-ad4b-845cb2ae8660",
   "metadata": {},
   "outputs": [],
   "source": [
    "def getListings(html):\n",
    "    soup = BeautifulSoup(html, 'html.parser')\n",
    "    listings = soup.findAll('button', 'button-favorite')\n",
    "    searchResults = soup.find('div', 'search-result-title').text\n",
    "    searchResultsCounts = int(searchResults.split()[0])\n",
    "    for ids in listings:\n",
    "        idAttr = ids.get('id')\n",
    "        idList.append(idAttr[5:])\n",
    "    if len(idList) != searchResultsCounts:\n",
    "        nextButton = WebDriverWait(driver, 10).until(\n",
    "        EC.presence_of_element_located((By.CSS_SELECTOR, 'a[aria-label=\"Next\"]'))\n",
    "        )\n",
    "        driver.execute_script(\"arguments[0].click();\", nextButton)\n",
    "        #time.sleep(1)\n",
    "        getListingsHTML()"
   ]
  },
  {
   "cell_type": "code",
   "execution_count": 23,
   "id": "ef3c2eb2-eca8-448d-a3bd-dac928d07e41",
   "metadata": {},
   "outputs": [],
   "source": [
    "def getListingsHTML():    \n",
    "    html = driver.page_source    \n",
    "    getListings(html)"
   ]
  },
  {
   "cell_type": "code",
   "execution_count": 24,
   "id": "8452f7b5-7b7f-486f-9ae6-d91400a8dcec",
   "metadata": {},
   "outputs": [],
   "source": [
    "driver = webdriver.Chrome()\n",
    "urlForPropIds = \"https://homepath.fanniemae.com/property-finder?city=Chicago&state=IL&listing-types=5,6\"\n",
    "driver.get(urlForPropIds)\n",
    "idList = []\n",
    "getListingsHTML()"
   ]
  },
  {
   "cell_type": "code",
   "execution_count": 25,
   "id": "34cab77a-3db1-4b9d-bd28-c46201326472",
   "metadata": {},
   "outputs": [],
   "source": [
    "propertyID = \"f79cbc7d-3b81-433e-ad4d-8778e3e8de0f\""
   ]
  },
  {
   "cell_type": "code",
   "execution_count": 26,
   "id": "20f4bcb3-dda5-424b-a78f-ddf71b70b7b3",
   "metadata": {},
   "outputs": [
    {
     "name": "stdout",
     "output_type": "stream",
     "text": [
      "https://homepath.fanniemae.com/property-detail/f79cbc7d-3b81-433e-ad4d-8778e3e8de0f\n"
     ]
    }
   ],
   "source": [
    "urlForAgentInfo = f\"https://homepath.fanniemae.com/property-detail/{propertyID}\"\n",
    "print(urlForAgentInfo)\n",
    "driver.get(urlForAgentInfo)\n",
    "html = driver.page_source\n",
    "soup = BeautifulSoup(html, 'html.parser')"
   ]
  },
  {
   "cell_type": "code",
   "execution_count": 27,
   "id": "e66f32db-cef9-4e59-84b4-2ccfab95c639",
   "metadata": {},
   "outputs": [],
   "source": [
    "agentInfoDiv = WebDriverWait(driver, 10).until( EC.presence_of_element_located( (By.ID, \"browser-support-popup\")))"
   ]
  },
  {
   "cell_type": "code",
   "execution_count": 28,
   "id": "24b92780-ac32-422a-8e9c-bf8e55c5224a",
   "metadata": {},
   "outputs": [
    {
     "ename": "AttributeError",
     "evalue": "'NoneType' object has no attribute 'text'",
     "output_type": "error",
     "traceback": [
      "\u001b[1;31m---------------------------------------------------------------------------\u001b[0m",
      "\u001b[1;31mAttributeError\u001b[0m                            Traceback (most recent call last)",
      "Cell \u001b[1;32mIn[28], line 2\u001b[0m\n\u001b[0;32m      1\u001b[0m agentDict \u001b[38;5;241m=\u001b[39m {}\n\u001b[1;32m----> 2\u001b[0m agentName \u001b[38;5;241m=\u001b[39m \u001b[43msoup\u001b[49m\u001b[38;5;241;43m.\u001b[39;49m\u001b[43mfind\u001b[49m\u001b[43m(\u001b[49m\u001b[38;5;124;43m'\u001b[39;49m\u001b[38;5;124;43mdiv\u001b[39;49m\u001b[38;5;124;43m'\u001b[39;49m\u001b[43m,\u001b[49m\u001b[43m \u001b[49m\u001b[43m{\u001b[49m\u001b[38;5;124;43m'\u001b[39;49m\u001b[38;5;124;43mclass\u001b[39;49m\u001b[38;5;124;43m'\u001b[39;49m\u001b[43m:\u001b[49m\u001b[43m \u001b[49m\u001b[38;5;124;43m'\u001b[39;49m\u001b[38;5;124;43magent-name ng-star-inserted\u001b[39;49m\u001b[38;5;124;43m'\u001b[39;49m\u001b[43m}\u001b[49m\u001b[43m)\u001b[49m\u001b[38;5;241;43m.\u001b[39;49m\u001b[43mtext\u001b[49m\u001b[38;5;241m.\u001b[39mstrip()\n\u001b[0;32m      3\u001b[0m \u001b[38;5;28mprint\u001b[39m(agentName)\n\u001b[0;32m      4\u001b[0m \u001b[38;5;28mprint\u001b[39m(soup)\n",
      "\u001b[1;31mAttributeError\u001b[0m: 'NoneType' object has no attribute 'text'"
     ]
    }
   ],
   "source": [
    "agentDict = {}\n",
    "agentName = soup.find('div', {'class': 'agent-name ng-star-inserted'}).text.strip()\n",
    "print(agentName)\n",
    "print(soup)\n",
    "#agentDict[propertyID] = {'name': soup.find('div', 'agent-name').text.strip(),\n",
    "                         #'telephone': soup.find('a', {'href': lambda x: x and x.startswith('tel:')}).text.strip(),\n",
    "                       #  'email': soup.find('a', {'href': lambda x: x and x.startswith('mailto:')})['href'].split(':')[1].split('?')[0],\n",
    "                      #   'broker': soup.find('div', text=True, recursive=False).strip()}\n",
    "print(agentDict)\n"
   ]
  },
  {
   "cell_type": "code",
   "execution_count": null,
   "id": "689532d0-4c15-4546-b08f-60f3cd881089",
   "metadata": {},
   "outputs": [],
   "source": []
  }
 ],
 "metadata": {
  "kernelspec": {
   "display_name": "Python 3 (ipykernel)",
   "language": "python",
   "name": "python3"
  },
  "language_info": {
   "codemirror_mode": {
    "name": "ipython",
    "version": 3
   },
   "file_extension": ".py",
   "mimetype": "text/x-python",
   "name": "python",
   "nbconvert_exporter": "python",
   "pygments_lexer": "ipython3",
   "version": "3.11.5"
  }
 },
 "nbformat": 4,
 "nbformat_minor": 5
}
